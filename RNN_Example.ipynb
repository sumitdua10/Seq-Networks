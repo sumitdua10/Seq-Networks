{
  "nbformat": 4,
  "nbformat_minor": 0,
  "metadata": {
    "colab": {
      "name": "RNN Example.ipynb",
      "version": "0.3.2",
      "provenance": [],
      "collapsed_sections": [],
      "include_colab_link": true
    },
    "kernelspec": {
      "name": "python3",
      "display_name": "Python 3"
    }
  },
  "cells": [
    {
      "cell_type": "markdown",
      "metadata": {
        "id": "view-in-github",
        "colab_type": "text"
      },
      "source": [
        "[View in Colaboratory](https://colab.research.google.com/github/sumitdua10/Seq-Networks/blob/master/RNN_Example.ipynb)"
      ]
    },
    {
      "metadata": {
        "id": "JTZ2LDyGOZRn",
        "colab_type": "code",
        "colab": {}
      },
      "cell_type": "code",
      "source": [
        "\n",
        "#import numpy as np\n",
        "import tensorflow as tf\n",
        "sess = tf.Session()\n",
        "\n",
        "from keras.models import Sequential, Model\n",
        "from keras.layers import Dense, Activation, Dropout, LSTM, GRU, Input, Embedding, RNN, SimpleRNNCell, SimpleRNN\n"
      ],
      "execution_count": 0,
      "outputs": []
    },
    {
      "metadata": {
        "id": "Px_slbqDOdTk",
        "colab_type": "code",
        "colab": {
          "base_uri": "https://localhost:8080/",
          "height": 139
        },
        "outputId": "f355ea23-be84-4c88-b488-69f22a194ba1"
      },
      "cell_type": "code",
      "source": [
        "LSTM_CELL_SIZE = 4  # output size (dimension), which is same as hidden size in the cell\n",
        "\n",
        "lstm_cell = tf.contrib.rnn.BasicLSTMCell(LSTM_CELL_SIZE, state_is_tuple=True)\n",
        "rnn_cell = tf.contrib.rnn.\n",
        "state = (tf.zeros([2,LSTM_CELL_SIZE]),)*2\n",
        "print(state)\n",
        "\n",
        "sample_input = tf.constant([[1,2,3,4,3,2],[3,2,2,2,2,2]],dtype=tf.float32)\n",
        "print (sess.run(sample_input))\n"
      ],
      "execution_count": 2,
      "outputs": [
        {
          "output_type": "stream",
          "text": [
            "WARNING:tensorflow:From <ipython-input-2-096db70f439d>:3: BasicLSTMCell.__init__ (from tensorflow.python.ops.rnn_cell_impl) is deprecated and will be removed in a future version.\n",
            "Instructions for updating:\n",
            "This class is deprecated, please use tf.nn.rnn_cell.LSTMCell, which supports all the feature this cell currently has. Please replace the existing code with tf.nn.rnn_cell.LSTMCell(name='basic_lstm_cell').\n",
            "(<tf.Tensor 'zeros:0' shape=(2, 4) dtype=float32>, <tf.Tensor 'zeros:0' shape=(2, 4) dtype=float32>)\n",
            "[[1. 2. 3. 4. 3. 2.]\n",
            " [3. 2. 2. 2. 2. 2.]]\n"
          ],
          "name": "stdout"
        }
      ]
    },
    {
      "metadata": {
        "id": "7Z7jE1PCOjPJ",
        "colab_type": "code",
        "colab": {
          "base_uri": "https://localhost:8080/",
          "height": 34
        },
        "outputId": "734a025b-d66e-45ee-c12f-1f2fc46fe557"
      },
      "cell_type": "code",
      "source": [
        "import numpy as np\n",
        "T = 8\n",
        "D = 2\n",
        "M = 5\n",
        "\n",
        "X = np.random.randn(1, T, D)\n",
        "print(X.shape)\n",
        "\n",
        "def rnn_ret_seq_false():\n",
        "  input_ = Input(shape=(T, D))\n",
        "  rnn = SimpleRNN(M, return_state=True)\n",
        "  x = rnn(input_)\n",
        "\n",
        "  model = Model(inputs=input_, outputs=x)\n",
        "  o, h = model.predict(X)\n",
        "  print(\"o:\", o)\n",
        "  print(\"h:\", h)\n",
        "  #print(\"c:\", c)\n",
        "  print(\"Model summary:\")\n",
        "  print(model.summary())\n",
        "\n",
        "  \n",
        "def rnn_ret_seq_true():\n",
        "  input_ = Input(shape=(T, D))\n",
        "  rnn = SimpleRNN(M, return_state=True,  return_sequences=True)\n",
        "  x = rnn(input_)\n",
        "\n",
        "  model = Model(inputs=input_, outputs=x)\n",
        "  o, h = model.predict(X)\n",
        "  print(\"o:\", o)\n",
        "  print(\"h:\", h)\n",
        "  #print(\"c:\", c)\n",
        "  print(\"Model summary:\")\n",
        "  print(model.summary())\n",
        "\n",
        "\n",
        "def lstm_ret_seq_false():\n",
        "  input_ = Input(shape=(T, D))\n",
        "  rnn = LSTM(M, return_state=True)\n",
        "  x = rnn(input_)\n",
        "\n",
        "  model = Model(inputs=input_, outputs=x)\n",
        "  o, h, c = model.predict(X)\n",
        "  print(\"o:\", o)\n",
        "  print(\"h:\", h)\n",
        "  print(\"c:\", c)\n",
        "  print(\"Model summary:\")\n",
        "  print(model.summary())\n",
        "\n",
        "\n",
        "def lstm_ret_seq_true():\n",
        "  input_ = Input(shape=(T, D))\n",
        "  rnn = LSTM(M, return_state=True, return_sequences=True)\n",
        "  # rnn = GRU(M, return_state=True)\n",
        "  x = rnn(input_)\n",
        "\n",
        "  model = Model(inputs=input_, outputs=x)\n",
        "  o, h, c = model.predict(X)\n",
        "  print(\"o:\", o)\n",
        "  print(\"h:\", h)\n",
        "  print(\"c:\", c)\n",
        "  print(\"Model summary:\")\n",
        "  print(model.summary())\n",
        "\n",
        "\n",
        "def gru_ret_seq_false():\n",
        "  input_ = Input(shape=(T, D))\n",
        "  rnn = GRU(M, return_state=True)\n",
        "  x = rnn(input_)\n",
        "\n",
        "  model = Model(inputs=input_, outputs=x)\n",
        "  o, h = model.predict(X)\n",
        "  print(\"o:\", o)\n",
        "  print(\"h:\", h)\n",
        "  print(\"Model summary:\")\n",
        "  print(model.summary())\n",
        "\n",
        "\n",
        "def gru_ret_seq_true():\n",
        "  input_ = Input(shape=(T, D))\n",
        "  rnn = GRU(M, return_state=True, return_sequences=True)\n",
        "  x = rnn(input_)\n",
        "\n",
        "  model = Model(inputs=input_, outputs=x)\n",
        "  o, h = model.predict(X)\n",
        "  print(\"o:\", o)\n",
        "  print(\"h:\", h)\n",
        "  print(\"Model summary:\")\n",
        "  print(model.summary())\n",
        "  "
      ],
      "execution_count": 30,
      "outputs": [
        {
          "output_type": "stream",
          "text": [
            "(2, 8, 2)\n"
          ],
          "name": "stdout"
        }
      ]
    },
    {
      "metadata": {
        "id": "-YbJ7H69O49x",
        "colab_type": "code",
        "colab": {
          "base_uri": "https://localhost:8080/",
          "height": 629
        },
        "outputId": "c5efa91d-23c4-4a39-be88-67a759324d92"
      },
      "cell_type": "code",
      "source": [
        "\n",
        "\n",
        "print(\"RNN ret seq false:\")\n",
        "rnn_ret_seq_false()\n",
        "\n",
        "#print(\"\\nRNN ret seq true:\")\n",
        "#rnn_ret_seq_true()\n",
        "\n",
        "#print(\"lstm ret seq false:\")\n",
        "#lstm_ret_seq_false()\n",
        "#print(\"lstm ret seq true:\")\n",
        "#lstm_ret_seq_true()\n",
        "print(\"gru ret seq false:\")\n",
        "gru_ret_seq_false()\n",
        "#print_ret_seq_true(\"gru ret seq true:\")\n",
        "#gru2()"
      ],
      "execution_count": 32,
      "outputs": [
        {
          "output_type": "stream",
          "text": [
            "RNN ret seq false:\n",
            "o: [[-0.63451695  0.58201516 -0.8332197   0.8778295   0.1722003 ]\n",
            " [-0.00858542 -0.579077    0.42863792 -0.4287584   0.12065346]]\n",
            "h: [[-0.63451695  0.58201516 -0.8332197   0.8778295   0.1722003 ]\n",
            " [-0.00858542 -0.579077    0.42863792 -0.4287584   0.12065346]]\n",
            "Model summary:\n",
            "_________________________________________________________________\n",
            "Layer (type)                 Output Shape              Param #   \n",
            "=================================================================\n",
            "input_18 (InputLayer)        (None, 8, 2)              0         \n",
            "_________________________________________________________________\n",
            "simple_rnn_15 (SimpleRNN)    [(None, 5), (None, 5)]    40        \n",
            "=================================================================\n",
            "Total params: 40\n",
            "Trainable params: 40\n",
            "Non-trainable params: 0\n",
            "_________________________________________________________________\n",
            "None\n",
            "gru ret seq false:\n",
            "o: [[-0.09803301  0.0238734  -0.00738997 -0.09977927  0.04441949]\n",
            " [-0.28214934  0.12102765  0.27571824 -0.08635886  0.08339989]]\n",
            "h: [[-0.09803301  0.0238734  -0.00738997 -0.09977927  0.04441949]\n",
            " [-0.28214934  0.12102765  0.27571824 -0.08635886  0.08339989]]\n",
            "Model summary:\n",
            "_________________________________________________________________\n",
            "Layer (type)                 Output Shape              Param #   \n",
            "=================================================================\n",
            "input_19 (InputLayer)        (None, 8, 2)              0         \n",
            "_________________________________________________________________\n",
            "gru_1 (GRU)                  [(None, 5), (None, 5)]    120       \n",
            "=================================================================\n",
            "Total params: 120\n",
            "Trainable params: 120\n",
            "Non-trainable params: 0\n",
            "_________________________________________________________________\n",
            "None\n"
          ],
          "name": "stdout"
        }
      ]
    },
    {
      "metadata": {
        "id": "aN8o8CChPVkm",
        "colab_type": "code",
        "colab": {}
      },
      "cell_type": "code",
      "source": [
        ""
      ],
      "execution_count": 0,
      "outputs": []
    }
  ]
}